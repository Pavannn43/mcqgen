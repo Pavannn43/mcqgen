{
 "cells": [
  {
   "cell_type": "code",
   "execution_count": 38,
   "id": "d40c059f",
   "metadata": {},
   "outputs": [],
   "source": [
    "import os\n",
    "import json\n",
    "import pandas as pd\n",
    "import traceback"
   ]
  },
  {
   "cell_type": "code",
   "execution_count": 39,
   "id": "f7ac56ab",
   "metadata": {},
   "outputs": [],
   "source": [
    "from langchain_openai import ChatOpenAI"
   ]
  },
  {
   "cell_type": "code",
   "execution_count": 40,
   "id": "33c82eb6",
   "metadata": {},
   "outputs": [
    {
     "data": {
      "text/plain": [
       "True"
      ]
     },
     "execution_count": 40,
     "metadata": {},
     "output_type": "execute_result"
    }
   ],
   "source": [
    "from dotenv import load_dotenv\n",
    "\n",
    "\n",
    "load_dotenv()  # take environment variables"
   ]
  },
  {
   "cell_type": "code",
   "execution_count": 41,
   "id": "98ffd7cd",
   "metadata": {},
   "outputs": [],
   "source": [
    "KEY=os.getenv(\"OPENAI_API_KEY\")"
   ]
  },
  {
   "cell_type": "code",
   "execution_count": 42,
   "id": "0dd0e7ac",
   "metadata": {},
   "outputs": [],
   "source": [
    "llm=ChatOpenAI(openai_api_key=KEY,model_name=\"gpt-3.5-turbo\", temperature=0.5)"
   ]
  },
  {
   "cell_type": "code",
   "execution_count": 43,
   "id": "5d10215f",
   "metadata": {},
   "outputs": [
    {
     "data": {
      "text/plain": [
       "ChatOpenAI(client=<openai.resources.chat.completions.completions.Completions object at 0x13322e700>, async_client=<openai.resources.chat.completions.completions.AsyncCompletions object at 0x13322ee20>, root_client=<openai.OpenAI object at 0x13322e820>, root_async_client=<openai.AsyncOpenAI object at 0x13322eb80>, temperature=0.5, model_kwargs={}, openai_api_key=SecretStr('**********'))"
      ]
     },
     "execution_count": 43,
     "metadata": {},
     "output_type": "execute_result"
    }
   ],
   "source": [
    "llm"
   ]
  },
  {
   "cell_type": "code",
   "execution_count": 44,
   "id": "8220b29d",
   "metadata": {},
   "outputs": [],
   "source": [
    "from langchain.llms import OpenAI\n",
    "from langchain.prompts import PromptTemplate\n",
    "from langchain.chains import LLMChain\n",
    "from langchain.chains import SequentialChain\n",
    "from langchain.callbacks import get_openai_callback\n",
    "import PyPDF2\n"
   ]
  },
  {
   "cell_type": "code",
   "execution_count": 45,
   "id": "5c87ec69",
   "metadata": {},
   "outputs": [],
   "source": [
    "RESPONSE_JSON={\n",
    "    \"1\": {\n",
    "        \"no\": \"1\",\n",
    "        \"mcq\": \"multiple choice questions\",\n",
    "        \"options\":{\n",
    "            \"a\": \"choice here\",\n",
    "            \"b\": \"choice here\",\n",
    "            \"c\": \"choice here\",\n",
    "            \"d\": \"choice here\"\n",
    "        },\n",
    "        \n",
    "        \"correct\": \"correct answer\"\n",
    "    },\n",
    "    \n",
    "    \"2\": {\n",
    "        \"no\": \"2\",\n",
    "        \"mcq\": \"multiple choice questions\",\n",
    "        \"options\":{\n",
    "            \"a\": \"choice here\",\n",
    "            \"b\": \"choice here\",\n",
    "            \"c\": \"choice here\",\n",
    "            \"d\": \"choice here\"\n",
    "        },\n",
    "        \n",
    "        \"correct\": \"correct answer\"\n",
    "    },\n",
    "    \n",
    "    \"3\": {\n",
    "        \"no\": \"3\",\n",
    "        \"mcq\": \"multiple choice questions\",\n",
    "        \"options\":{\n",
    "            \"a\": \"choice here\",\n",
    "            \"b\": \"choice here\",\n",
    "            \"c\": \"choice here\",\n",
    "            \"d\": \"choice here\"\n",
    "        },\n",
    "        \n",
    "        \"correct\": \"correct answer\"\n",
    "    }\n",
    "    \n",
    "    \n",
    "}"
   ]
  },
  {
   "cell_type": "code",
   "execution_count": 46,
   "id": "5e2a46d6",
   "metadata": {},
   "outputs": [],
   "source": [
    "TEMPLATE=\"\"\"\n",
    "Text:{text}\n",
    "You are an expert MCQ maker. Given the above text, it is your job to \\\n",
    "create a quiz  of {number} multiple choice questions for {subject} students in {tone} tone.\n",
    "Make sure the questions are not repeated and check all the questions to be conforming the text as well.\n",
    "Make sure to format your response like  RESPONSE_JSON below  and use it as a guide. \\\n",
    "Ensure to make {number} MCQs\n",
    "### RESPONSE_JSON\n",
    "{response_json}\n",
    "\"\"\"\n"
   ]
  },
  {
   "cell_type": "code",
   "execution_count": 47,
   "id": "a0eabeb9",
   "metadata": {},
   "outputs": [],
   "source": [
    "quiz_generation_prompt = PromptTemplate(\n",
    "   input_variables=[\"text\",\"number\",\"subject\",\"tone\",\"response_json\"],\n",
    "   template=TEMPLATE\n",
    ")"
   ]
  },
  {
   "cell_type": "code",
   "execution_count": 48,
   "id": "ed0655c6",
   "metadata": {},
   "outputs": [],
   "source": [
    "quiz_chain=LLMChain(llm=llm, prompt=quiz_generation_prompt, output_key=\"quiz\", verbose=True)"
   ]
  },
  {
   "cell_type": "code",
   "execution_count": 49,
   "id": "7be1e737",
   "metadata": {},
   "outputs": [],
   "source": [
    "TEMPLATE2=\"\"\"\n",
    "You are an expert english grammarian and writer. Given a Multiple Choice Quiz for {subject} students.\\\n",
    "You need to evaluate the complexity of teh question and give a complete analysis of the quiz if the students\n",
    "will be able to unserstand the questions and answer them. Only use at max 50 words for complexity analysis.\n",
    "if the quiz is not at par with the cognitive and analytical abilities of the students,\\\n",
    "update tech quiz questions which needs to be changed  and change the tone such that it perfectly fits the student abilities\n",
    "Quiz_MCQs:\n",
    "{quiz}\n",
    "\n",
    "\n",
    "Check from an expert English Writer of the above quiz:\n",
    "\"\"\"\n"
   ]
  },
  {
   "cell_type": "code",
   "execution_count": 50,
   "id": "67997ec7",
   "metadata": {},
   "outputs": [],
   "source": [
    "quiz_evaluation_prompt=PromptTemplate(input_variables=[\"subject\", \"quiz\"], template=TEMPLATE)"
   ]
  },
  {
   "cell_type": "code",
   "execution_count": 51,
   "id": "faa3d9cc",
   "metadata": {},
   "outputs": [],
   "source": [
    "review_chain=LLMChain(llm=llm, prompt=quiz_evaluation_prompt, output_key=\"review\", verbose=True)"
   ]
  },
  {
   "cell_type": "code",
   "execution_count": 52,
   "id": "09f6dbaa",
   "metadata": {},
   "outputs": [],
   "source": [
    "# This is an Overall Chain where we run the two chains in Sequence\n",
    "generate_evaluate_chain=SequentialChain(chains=[quiz_chain, review_chain], input_variables=[\"text\", \"number\", \"subject\", \"tone\", \"response_json\"],\n",
    "                                       output_variables=[\"quiz\", \"review\"], verbose=True,)"
   ]
  },
  {
   "cell_type": "code",
   "execution_count": 53,
   "id": "7ab60382",
   "metadata": {},
   "outputs": [],
   "source": [
    "file_path=\"/Users/pavannagabathula/mcqgen/data.txt\""
   ]
  },
  {
   "cell_type": "code",
   "execution_count": 54,
   "id": "c81f81d0",
   "metadata": {},
   "outputs": [
    {
     "data": {
      "text/plain": [
       "'/Users/pavannagabathula/mcqgen/data.txt'"
      ]
     },
     "execution_count": 54,
     "metadata": {},
     "output_type": "execute_result"
    }
   ],
   "source": [
    "file_path"
   ]
  },
  {
   "cell_type": "code",
   "execution_count": 55,
   "id": "06f2ec83",
   "metadata": {},
   "outputs": [
    {
     "name": "stdout",
     "output_type": "stream",
     "text": [
      "File content length: 3349\n"
     ]
    }
   ],
   "source": [
    "with open(file_path,'r') as file:\n",
    "   TEXT =file.read()\n",
    "\n",
    "\n",
    "# %%\n",
    "print(\"File content length:\", len(TEXT))\n"
   ]
  },
  {
   "cell_type": "code",
   "execution_count": 56,
   "id": "2bd7c930",
   "metadata": {},
   "outputs": [
    {
     "name": "stdout",
     "output_type": "stream",
     "text": [
      "The term machine learning was coined in 1959 by Arthur Samuel, an IBM employee and pioneer in the field of computer gaming and artificial intelligence.[8][9] The synonym self-teaching computers was also used in this time period.[10][11]\n",
      "\n",
      "The earliest machine learning program was introduced in the 1950s when Arthur Samuel invented a computer program that calculated the winning chance in checkers for each side, but the history of machine learning roots back to decades of human desire and effort to study human cognitive processes.[12] In 1949, Canadian psychologist Donald Hebb published the book The Organization of Behavior, in which he introduced a theoretical neural structure formed by certain interactions among nerve cells.[13] Hebb's model of neurons interacting with one another set a groundwork for how AIs and machine learning algorithms work under nodes, or artificial neurons used by computers to communicate data.[12] Other researchers who have studied human cognitive systems contributed to the modern machine learning technologies as well, including logician Walter Pitts and Warren McCulloch, who proposed the early mathematical models of neural networks to come up with algorithms that mirror human thought processes.[12]\n",
      "\n",
      "By the early 1960s, an experimental \"learning machine\" with punched tape memory, called Cybertron, had been developed by Raytheon Company to analyse sonar signals, electrocardiograms, and speech patterns using rudimentary reinforcement learning. It was repetitively \"trained\" by a human operator/teacher to recognise patterns and equipped with a \"goof\" button to cause it to reevaluate incorrect decisions.[14] A representative book on research into machine learning during the 1960s was Nilsson's book on Learning Machines, dealing mostly with machine learning for pattern classification.[15] Interest related to pattern recognition continued into the 1970s, as described by Duda and Hart in 1973.[16] In 1981 a report was given on using teaching strategies so that an artificial neural network learns to recognise 40 characters (26 letters, 10 digits, and 4 special symbols) from a computer terminal.[17]\n",
      "\n",
      "Tom M. Mitchell provided a widely quoted, more formal definition of the algorithms studied in the machine learning field: \"A computer program is said to learn from experience E with respect to some class of tasks T and performance measure P if its performance at tasks in T, as measured by P, improves with experience E.\"[18] This definition of the tasks in which machine learning is concerned offers a fundamentally operational definition rather than defining the field in cognitive terms. This follows Alan Turing's proposal in his paper \"Computing Machinery and Intelligence\", in which the question \"Can machines think?\" is replaced with the question \"Can machines do what we (as thinking entities) can do?\".[19]\n",
      "\n",
      "Modern-day machine learning has two objectives. One is to classify data based on models which have been developed; the other purpose is to make predictions for future outcomes based on these models. A hypothetical algorithm specific to classifying data may use computer vision of moles coupled with supervised learning in order to train it to classify the cancerous moles. A machine learning algorithm for stock trading may inform the trader of future potential predictions.[20]\n",
      "\n",
      "\n"
     ]
    }
   ],
   "source": [
    "print(TEXT)"
   ]
  },
  {
   "cell_type": "code",
   "execution_count": 57,
   "id": "f81887b6",
   "metadata": {},
   "outputs": [
    {
     "data": {
      "text/plain": [
       "'{\"1\": {\"no\": \"1\", \"mcq\": \"multiple choice questions\", \"options\": {\"a\": \"choice here\", \"b\": \"choice here\", \"c\": \"choice here\", \"d\": \"choice here\"}, \"correct\": \"correct answer\"}, \"2\": {\"no\": \"2\", \"mcq\": \"multiple choice questions\", \"options\": {\"a\": \"choice here\", \"b\": \"choice here\", \"c\": \"choice here\", \"d\": \"choice here\"}, \"correct\": \"correct answer\"}, \"3\": {\"no\": \"3\", \"mcq\": \"multiple choice questions\", \"options\": {\"a\": \"choice here\", \"b\": \"choice here\", \"c\": \"choice here\", \"d\": \"choice here\"}, \"correct\": \"correct answer\"}}'"
      ]
     },
     "execution_count": 57,
     "metadata": {},
     "output_type": "execute_result"
    }
   ],
   "source": [
    "#serialize the python dictionary into a JSON- formatted string\n",
    "json.dumps(RESPONSE_JSON)"
   ]
  },
  {
   "cell_type": "code",
   "execution_count": 58,
   "id": "83e65583",
   "metadata": {},
   "outputs": [],
   "source": [
    "NUMBER=5\n",
    "SUBJECT=\"machine learning\"\n",
    "TONE='simple'"
   ]
  },
  {
   "cell_type": "code",
   "execution_count": 59,
   "id": "a2d9fbed",
   "metadata": {},
   "outputs": [
    {
     "name": "stderr",
     "output_type": "stream",
     "text": [
      "/var/folders/77/nwcv_cts2md93pltv_dhpd140000gn/T/ipykernel_66050/4057235323.py:8: LangChainDeprecationWarning: The method `Chain.__call__` was deprecated in langchain 0.1.0 and will be removed in 1.0. Use :meth:`~invoke` instead.\n",
      "  response=generate_evaluate_chain(\n"
     ]
    },
    {
     "name": "stdout",
     "output_type": "stream",
     "text": [
      "\n",
      "\n",
      "\u001b[1m> Entering new SequentialChain chain...\u001b[0m\n",
      "\n",
      "\n",
      "\u001b[1m> Entering new LLMChain chain...\u001b[0m\n",
      "Prompt after formatting:\n",
      "\u001b[32;1m\u001b[1;3m\n",
      "Text:The term machine learning was coined in 1959 by Arthur Samuel, an IBM employee and pioneer in the field of computer gaming and artificial intelligence.[8][9] The synonym self-teaching computers was also used in this time period.[10][11]\n",
      "\n",
      "The earliest machine learning program was introduced in the 1950s when Arthur Samuel invented a computer program that calculated the winning chance in checkers for each side, but the history of machine learning roots back to decades of human desire and effort to study human cognitive processes.[12] In 1949, Canadian psychologist Donald Hebb published the book The Organization of Behavior, in which he introduced a theoretical neural structure formed by certain interactions among nerve cells.[13] Hebb's model of neurons interacting with one another set a groundwork for how AIs and machine learning algorithms work under nodes, or artificial neurons used by computers to communicate data.[12] Other researchers who have studied human cognitive systems contributed to the modern machine learning technologies as well, including logician Walter Pitts and Warren McCulloch, who proposed the early mathematical models of neural networks to come up with algorithms that mirror human thought processes.[12]\n",
      "\n",
      "By the early 1960s, an experimental \"learning machine\" with punched tape memory, called Cybertron, had been developed by Raytheon Company to analyse sonar signals, electrocardiograms, and speech patterns using rudimentary reinforcement learning. It was repetitively \"trained\" by a human operator/teacher to recognise patterns and equipped with a \"goof\" button to cause it to reevaluate incorrect decisions.[14] A representative book on research into machine learning during the 1960s was Nilsson's book on Learning Machines, dealing mostly with machine learning for pattern classification.[15] Interest related to pattern recognition continued into the 1970s, as described by Duda and Hart in 1973.[16] In 1981 a report was given on using teaching strategies so that an artificial neural network learns to recognise 40 characters (26 letters, 10 digits, and 4 special symbols) from a computer terminal.[17]\n",
      "\n",
      "Tom M. Mitchell provided a widely quoted, more formal definition of the algorithms studied in the machine learning field: \"A computer program is said to learn from experience E with respect to some class of tasks T and performance measure P if its performance at tasks in T, as measured by P, improves with experience E.\"[18] This definition of the tasks in which machine learning is concerned offers a fundamentally operational definition rather than defining the field in cognitive terms. This follows Alan Turing's proposal in his paper \"Computing Machinery and Intelligence\", in which the question \"Can machines think?\" is replaced with the question \"Can machines do what we (as thinking entities) can do?\".[19]\n",
      "\n",
      "Modern-day machine learning has two objectives. One is to classify data based on models which have been developed; the other purpose is to make predictions for future outcomes based on these models. A hypothetical algorithm specific to classifying data may use computer vision of moles coupled with supervised learning in order to train it to classify the cancerous moles. A machine learning algorithm for stock trading may inform the trader of future potential predictions.[20]\n",
      "\n",
      "\n",
      "You are an expert MCQ maker. Given the above text, it is your job to create a quiz  of 5 multiple choice questions for machine learning students in simple tone.\n",
      "Make sure the questions are not repeated and check all the questions to be conforming the text as well.\n",
      "Make sure to format your response like  RESPONSE_JSON below  and use it as a guide. Ensure to make 5 MCQs\n",
      "### RESPONSE_JSON\n",
      "{\"1\": {\"no\": \"1\", \"mcq\": \"multiple choice questions\", \"options\": {\"a\": \"choice here\", \"b\": \"choice here\", \"c\": \"choice here\", \"d\": \"choice here\"}, \"correct\": \"correct answer\"}, \"2\": {\"no\": \"2\", \"mcq\": \"multiple choice questions\", \"options\": {\"a\": \"choice here\", \"b\": \"choice here\", \"c\": \"choice here\", \"d\": \"choice here\"}, \"correct\": \"correct answer\"}, \"3\": {\"no\": \"3\", \"mcq\": \"multiple choice questions\", \"options\": {\"a\": \"choice here\", \"b\": \"choice here\", \"c\": \"choice here\", \"d\": \"choice here\"}, \"correct\": \"correct answer\"}}\n",
      "\u001b[0m\n",
      "\n",
      "\u001b[1m> Finished chain.\u001b[0m\n",
      "\n",
      "\n",
      "\u001b[1m> Entering new LLMChain chain...\u001b[0m\n",
      "Prompt after formatting:\n",
      "\u001b[32;1m\u001b[1;3m\n",
      "Text:The term machine learning was coined in 1959 by Arthur Samuel, an IBM employee and pioneer in the field of computer gaming and artificial intelligence.[8][9] The synonym self-teaching computers was also used in this time period.[10][11]\n",
      "\n",
      "The earliest machine learning program was introduced in the 1950s when Arthur Samuel invented a computer program that calculated the winning chance in checkers for each side, but the history of machine learning roots back to decades of human desire and effort to study human cognitive processes.[12] In 1949, Canadian psychologist Donald Hebb published the book The Organization of Behavior, in which he introduced a theoretical neural structure formed by certain interactions among nerve cells.[13] Hebb's model of neurons interacting with one another set a groundwork for how AIs and machine learning algorithms work under nodes, or artificial neurons used by computers to communicate data.[12] Other researchers who have studied human cognitive systems contributed to the modern machine learning technologies as well, including logician Walter Pitts and Warren McCulloch, who proposed the early mathematical models of neural networks to come up with algorithms that mirror human thought processes.[12]\n",
      "\n",
      "By the early 1960s, an experimental \"learning machine\" with punched tape memory, called Cybertron, had been developed by Raytheon Company to analyse sonar signals, electrocardiograms, and speech patterns using rudimentary reinforcement learning. It was repetitively \"trained\" by a human operator/teacher to recognise patterns and equipped with a \"goof\" button to cause it to reevaluate incorrect decisions.[14] A representative book on research into machine learning during the 1960s was Nilsson's book on Learning Machines, dealing mostly with machine learning for pattern classification.[15] Interest related to pattern recognition continued into the 1970s, as described by Duda and Hart in 1973.[16] In 1981 a report was given on using teaching strategies so that an artificial neural network learns to recognise 40 characters (26 letters, 10 digits, and 4 special symbols) from a computer terminal.[17]\n",
      "\n",
      "Tom M. Mitchell provided a widely quoted, more formal definition of the algorithms studied in the machine learning field: \"A computer program is said to learn from experience E with respect to some class of tasks T and performance measure P if its performance at tasks in T, as measured by P, improves with experience E.\"[18] This definition of the tasks in which machine learning is concerned offers a fundamentally operational definition rather than defining the field in cognitive terms. This follows Alan Turing's proposal in his paper \"Computing Machinery and Intelligence\", in which the question \"Can machines think?\" is replaced with the question \"Can machines do what we (as thinking entities) can do?\".[19]\n",
      "\n",
      "Modern-day machine learning has two objectives. One is to classify data based on models which have been developed; the other purpose is to make predictions for future outcomes based on these models. A hypothetical algorithm specific to classifying data may use computer vision of moles coupled with supervised learning in order to train it to classify the cancerous moles. A machine learning algorithm for stock trading may inform the trader of future potential predictions.[20]\n",
      "\n",
      "\n",
      "You are an expert MCQ maker. Given the above text, it is your job to create a quiz  of 5 multiple choice questions for machine learning students in simple tone.\n",
      "Make sure the questions are not repeated and check all the questions to be conforming the text as well.\n",
      "Make sure to format your response like  RESPONSE_JSON below  and use it as a guide. Ensure to make 5 MCQs\n",
      "### RESPONSE_JSON\n",
      "{\"1\": {\"no\": \"1\", \"mcq\": \"multiple choice questions\", \"options\": {\"a\": \"choice here\", \"b\": \"choice here\", \"c\": \"choice here\", \"d\": \"choice here\"}, \"correct\": \"correct answer\"}, \"2\": {\"no\": \"2\", \"mcq\": \"multiple choice questions\", \"options\": {\"a\": \"choice here\", \"b\": \"choice here\", \"c\": \"choice here\", \"d\": \"choice here\"}, \"correct\": \"correct answer\"}, \"3\": {\"no\": \"3\", \"mcq\": \"multiple choice questions\", \"options\": {\"a\": \"choice here\", \"b\": \"choice here\", \"c\": \"choice here\", \"d\": \"choice here\"}, \"correct\": \"correct answer\"}}\n",
      "\u001b[0m\n",
      "\n",
      "\u001b[1m> Finished chain.\u001b[0m\n",
      "\n",
      "\u001b[1m> Finished chain.\u001b[0m\n"
     ]
    }
   ],
   "source": [
    "#https://python.langchain.com/docs/modules/model_io/llms/token_usage_tracking\n",
    "\n",
    "\n",
    "#How to setup Token Usage tracking in langchain\n",
    "\n",
    "\n",
    "with get_openai_callback() as cb:\n",
    "   response=generate_evaluate_chain(\n",
    "   {\n",
    "       \"text\":TEXT,\n",
    "       \"number\":NUMBER,\n",
    "       \"subject\":SUBJECT,\n",
    "       \"tone\":TONE,\n",
    "       \"response_json\": json.dumps(RESPONSE_JSON)\n",
    "   }\n",
    "   )\n"
   ]
  },
  {
   "cell_type": "code",
   "execution_count": 60,
   "id": "54b03c63",
   "metadata": {},
   "outputs": [
    {
     "name": "stdout",
     "output_type": "stream",
     "text": [
      "Total Tokens:2715\n",
      "Prompt Tokens:1828\n",
      "Completion Tokens:887\n",
      "Total Cost:0.0022445\n"
     ]
    }
   ],
   "source": [
    "print(f\"Total Tokens:{cb.total_tokens}\")\n",
    "print(f\"Prompt Tokens:{cb.prompt_tokens}\")\n",
    "print(f\"Completion Tokens:{cb.completion_tokens}\")\n",
    "print(f\"Total Cost:{cb.total_cost}\")"
   ]
  },
  {
   "cell_type": "code",
   "execution_count": 61,
   "id": "f1a2c3cb",
   "metadata": {},
   "outputs": [
    {
     "data": {
      "text/plain": [
       "{'text': 'The term machine learning was coined in 1959 by Arthur Samuel, an IBM employee and pioneer in the field of computer gaming and artificial intelligence.[8][9] The synonym self-teaching computers was also used in this time period.[10][11]\\n\\nThe earliest machine learning program was introduced in the 1950s when Arthur Samuel invented a computer program that calculated the winning chance in checkers for each side, but the history of machine learning roots back to decades of human desire and effort to study human cognitive processes.[12] In 1949, Canadian psychologist Donald Hebb published the book The Organization of Behavior, in which he introduced a theoretical neural structure formed by certain interactions among nerve cells.[13] Hebb\\'s model of neurons interacting with one another set a groundwork for how AIs and machine learning algorithms work under nodes, or artificial neurons used by computers to communicate data.[12] Other researchers who have studied human cognitive systems contributed to the modern machine learning technologies as well, including logician Walter Pitts and Warren McCulloch, who proposed the early mathematical models of neural networks to come up with algorithms that mirror human thought processes.[12]\\n\\nBy the early 1960s, an experimental \"learning machine\" with punched tape memory, called Cybertron, had been developed by Raytheon Company to analyse sonar signals, electrocardiograms, and speech patterns using rudimentary reinforcement learning. It was repetitively \"trained\" by a human operator/teacher to recognise patterns and equipped with a \"goof\" button to cause it to reevaluate incorrect decisions.[14] A representative book on research into machine learning during the 1960s was Nilsson\\'s book on Learning Machines, dealing mostly with machine learning for pattern classification.[15] Interest related to pattern recognition continued into the 1970s, as described by Duda and Hart in 1973.[16] In 1981 a report was given on using teaching strategies so that an artificial neural network learns to recognise 40 characters (26 letters, 10 digits, and 4 special symbols) from a computer terminal.[17]\\n\\nTom M. Mitchell provided a widely quoted, more formal definition of the algorithms studied in the machine learning field: \"A computer program is said to learn from experience E with respect to some class of tasks T and performance measure P if its performance at tasks in T, as measured by P, improves with experience E.\"[18] This definition of the tasks in which machine learning is concerned offers a fundamentally operational definition rather than defining the field in cognitive terms. This follows Alan Turing\\'s proposal in his paper \"Computing Machinery and Intelligence\", in which the question \"Can machines think?\" is replaced with the question \"Can machines do what we (as thinking entities) can do?\".[19]\\n\\nModern-day machine learning has two objectives. One is to classify data based on models which have been developed; the other purpose is to make predictions for future outcomes based on these models. A hypothetical algorithm specific to classifying data may use computer vision of moles coupled with supervised learning in order to train it to classify the cancerous moles. A machine learning algorithm for stock trading may inform the trader of future potential predictions.[20]\\n\\n',\n",
       " 'number': 5,\n",
       " 'subject': 'machine learning',\n",
       " 'tone': 'simple',\n",
       " 'response_json': '{\"1\": {\"no\": \"1\", \"mcq\": \"multiple choice questions\", \"options\": {\"a\": \"choice here\", \"b\": \"choice here\", \"c\": \"choice here\", \"d\": \"choice here\"}, \"correct\": \"correct answer\"}, \"2\": {\"no\": \"2\", \"mcq\": \"multiple choice questions\", \"options\": {\"a\": \"choice here\", \"b\": \"choice here\", \"c\": \"choice here\", \"d\": \"choice here\"}, \"correct\": \"correct answer\"}, \"3\": {\"no\": \"3\", \"mcq\": \"multiple choice questions\", \"options\": {\"a\": \"choice here\", \"b\": \"choice here\", \"c\": \"choice here\", \"d\": \"choice here\"}, \"correct\": \"correct answer\"}}',\n",
       " 'quiz': '{\\n\"1\": {\\n\"no\": \"1\",\\n\"mcq\": \"When was the term \\'machine learning\\' coined?\",\\n\"options\": {\\n\"a\": \"1949\",\\n\"b\": \"1959\",\\n\"c\": \"1969\",\\n\"d\": \"1979\"\\n},\\n\"correct\": \"b\"\\n},\\n\"2\": {\\n\"no\": \"2\",\\n\"mcq\": \"Who introduced the theoretical neural structure in the book \\'The Organization of Behavior\\'?\",\\n\"options\": {\\n\"a\": \"Tom M. Mitchell\",\\n\"b\": \"Walter Pitts\",\\n\"c\": \"Donald Hebb\",\\n\"d\": \"Warren McCulloch\"\\n},\\n\"correct\": \"c\"\\n},\\n\"3\": {\\n\"no\": \"3\",\\n\"mcq\": \"What was the purpose of the experimental \\'learning machine\\' Cybertron developed by Raytheon Company?\",\\n\"options\": {\\n\"a\": \"To analyse weather patterns\",\\n\"b\": \"To analyse sonar signals, electrocardiograms, and speech patterns\",\\n\"c\": \"To play chess\",\\n\"d\": \"To send emails\"\\n},\\n\"correct\": \"b\"\\n},\\n\"4\": {\\n\"no\": \"4\",\\n\"mcq\": \"According to Tom M. Mitchell, what does a computer program do in machine learning with respect to tasks, experience, and performance?\",\\n\"options\": {\\n\"a\": \"It learns from experience E with respect to some class of tasks T and performance measure P\",\\n\"b\": \"It learns from experience E with respect to some class of tasks T and performance measure Q\",\\n\"c\": \"It learns from experience F with respect to some class of tasks T and performance measure P\",\\n\"d\": \"It learns from experience E with respect to some class of tasks U and performance measure P\"\\n},\\n\"correct\": \"a\"\\n},\\n\"5\": {\\n\"no\": \"5\",\\n\"mcq\": \"What are the two objectives of modern-day machine learning?\",\\n\"options\": {\\n\"a\": \"To classify data based on models developed and to make predictions for past outcomes\",\\n\"b\": \"To classify data based on models developed and to make predictions for future outcomes\",\\n\"c\": \"To analyze data based on models developed and to make predictions for future outcomes\",\\n\"d\": \"To analyze data based on models developed and to make predictions for past outcomes\"\\n},\\n\"correct\": \"b\"\\n}\\n}',\n",
       " 'review': '\\n{\\n\"1\": {\\n\"no\": \"1\",\\n\"mcq\": \"What term was coined by Arthur Samuel in 1959 to describe the field of computer gaming and artificial intelligence?\",\\n\"options\": {\\n\"a\": \"Artificial Intelligence\",\\n\"b\": \"Machine Learning\",\\n\"c\": \"Computer Gaming\",\\n\"d\": \"Self-Teaching Computers\"\\n},\\n\"correct\": \"b\"\\n},\\n\"2\": {\\n\"no\": \"2\",\\n\"mcq\": \"Who published the book \\'The Organization of Behavior\\' in 1949, introducing a theoretical neural structure?\",\\n\"options\": {\\n\"a\": \"Arthur Samuel\",\\n\"b\": \"Donald Hebb\",\\n\"c\": \"Walter Pitts\",\\n\"d\": \"Warren McCulloch\"\\n},\\n\"correct\": \"b\"\\n},\\n\"3\": {\\n\"no\": \"3\",\\n\"mcq\": \"In the 1960s, what experimental \\'learning machine\\' was developed by Raytheon Company to analyze sonar signals and speech patterns?\",\\n\"options\": {\\n\"a\": \"Cybertron\",\\n\"b\": \"HAL 9000\",\\n\"c\": \"Deep Blue\",\\n\"d\": \"R2-D2\"\\n},\\n\"correct\": \"a\"\\n},\\n\"4\": {\\n\"no\": \"4\",\\n\"mcq\": \"According to Tom M. Mitchell, what is the definition of a computer program learning from experience?\",\\n\"options\": {\\n\"a\": \"Improving performance based on experience\",\\n\"b\": \"Classifying data based on models\",\\n\"c\": \"Making predictions for future outcomes\",\\n\"d\": \"Analyzing neural structures\"\\n},\\n\"correct\": \"a\"\\n},\\n\"5\": {\\n\"no\": \"5\",\\n\"mcq\": \"What are the two objectives of modern-day machine learning?\",\\n\"options\": {\\n\"a\": \"Classifying data and making predictions\",\\n\"b\": \"Developing new algorithms and improving performance\",\\n\"c\": \"Analyzing human cognitive processes and neural networks\",\\n\"d\": \"Training computers to think like humans\"\\n},\\n\"correct\": \"a\"\\n}\\n}'}"
      ]
     },
     "execution_count": 61,
     "metadata": {},
     "output_type": "execute_result"
    }
   ],
   "source": [
    "response"
   ]
  },
  {
   "cell_type": "code",
   "execution_count": 62,
   "id": "43d99698",
   "metadata": {},
   "outputs": [],
   "source": [
    "quiz=response.get(\"quiz\")"
   ]
  },
  {
   "cell_type": "code",
   "execution_count": 63,
   "id": "6ed40b41",
   "metadata": {},
   "outputs": [
    {
     "data": {
      "text/plain": [
       "{'1': {'no': '1',\n",
       "  'mcq': \"When was the term 'machine learning' coined?\",\n",
       "  'options': {'a': '1949', 'b': '1959', 'c': '1969', 'd': '1979'},\n",
       "  'correct': 'b'},\n",
       " '2': {'no': '2',\n",
       "  'mcq': \"Who introduced the theoretical neural structure in the book 'The Organization of Behavior'?\",\n",
       "  'options': {'a': 'Tom M. Mitchell',\n",
       "   'b': 'Walter Pitts',\n",
       "   'c': 'Donald Hebb',\n",
       "   'd': 'Warren McCulloch'},\n",
       "  'correct': 'c'},\n",
       " '3': {'no': '3',\n",
       "  'mcq': \"What was the purpose of the experimental 'learning machine' Cybertron developed by Raytheon Company?\",\n",
       "  'options': {'a': 'To analyse weather patterns',\n",
       "   'b': 'To analyse sonar signals, electrocardiograms, and speech patterns',\n",
       "   'c': 'To play chess',\n",
       "   'd': 'To send emails'},\n",
       "  'correct': 'b'},\n",
       " '4': {'no': '4',\n",
       "  'mcq': 'According to Tom M. Mitchell, what does a computer program do in machine learning with respect to tasks, experience, and performance?',\n",
       "  'options': {'a': 'It learns from experience E with respect to some class of tasks T and performance measure P',\n",
       "   'b': 'It learns from experience E with respect to some class of tasks T and performance measure Q',\n",
       "   'c': 'It learns from experience F with respect to some class of tasks T and performance measure P',\n",
       "   'd': 'It learns from experience E with respect to some class of tasks U and performance measure P'},\n",
       "  'correct': 'a'},\n",
       " '5': {'no': '5',\n",
       "  'mcq': 'What are the two objectives of modern-day machine learning?',\n",
       "  'options': {'a': 'To classify data based on models developed and to make predictions for past outcomes',\n",
       "   'b': 'To classify data based on models developed and to make predictions for future outcomes',\n",
       "   'c': 'To analyze data based on models developed and to make predictions for future outcomes',\n",
       "   'd': 'To analyze data based on models developed and to make predictions for past outcomes'},\n",
       "  'correct': 'b'}}"
      ]
     },
     "execution_count": 63,
     "metadata": {},
     "output_type": "execute_result"
    }
   ],
   "source": [
    "json.loads(quiz)"
   ]
  },
  {
   "cell_type": "code",
   "execution_count": 64,
   "id": "c8f377d3",
   "metadata": {},
   "outputs": [],
   "source": [
    "quiz=json.loads(quiz)"
   ]
  },
  {
   "cell_type": "code",
   "execution_count": 65,
   "id": "757d156d",
   "metadata": {},
   "outputs": [],
   "source": [
    "quiz_table_data = []\n",
    "for key, value in quiz.items():\n",
    "   mcq = value[\"mcq\"]\n",
    "   options = \" | \".join(\n",
    "\n",
    "\n",
    "       [f\"{option}: {option_value}\"\n",
    "        for option, option_value in value[\"options\"].items()\n",
    "        ]\n",
    "   )\n",
    "   correct = value[\"correct\"]\n",
    "   quiz_table_data.append({\"MCQ\": mcq,\"Choices\": options,\"Correct\": correct})"
   ]
  },
  {
   "cell_type": "code",
   "execution_count": 66,
   "id": "5214ebc5",
   "metadata": {},
   "outputs": [
    {
     "data": {
      "text/plain": [
       "[{'MCQ': \"When was the term 'machine learning' coined?\",\n",
       "  'Choices': 'a: 1949 | b: 1959 | c: 1969 | d: 1979',\n",
       "  'Correct': 'b'},\n",
       " {'MCQ': \"Who introduced the theoretical neural structure in the book 'The Organization of Behavior'?\",\n",
       "  'Choices': 'a: Tom M. Mitchell | b: Walter Pitts | c: Donald Hebb | d: Warren McCulloch',\n",
       "  'Correct': 'c'},\n",
       " {'MCQ': \"What was the purpose of the experimental 'learning machine' Cybertron developed by Raytheon Company?\",\n",
       "  'Choices': 'a: To analyse weather patterns | b: To analyse sonar signals, electrocardiograms, and speech patterns | c: To play chess | d: To send emails',\n",
       "  'Correct': 'b'},\n",
       " {'MCQ': 'According to Tom M. Mitchell, what does a computer program do in machine learning with respect to tasks, experience, and performance?',\n",
       "  'Choices': 'a: It learns from experience E with respect to some class of tasks T and performance measure P | b: It learns from experience E with respect to some class of tasks T and performance measure Q | c: It learns from experience F with respect to some class of tasks T and performance measure P | d: It learns from experience E with respect to some class of tasks U and performance measure P',\n",
       "  'Correct': 'a'},\n",
       " {'MCQ': 'What are the two objectives of modern-day machine learning?',\n",
       "  'Choices': 'a: To classify data based on models developed and to make predictions for past outcomes | b: To classify data based on models developed and to make predictions for future outcomes | c: To analyze data based on models developed and to make predictions for future outcomes | d: To analyze data based on models developed and to make predictions for past outcomes',\n",
       "  'Correct': 'b'}]"
      ]
     },
     "execution_count": 66,
     "metadata": {},
     "output_type": "execute_result"
    }
   ],
   "source": [
    "quiz_table_data"
   ]
  },
  {
   "cell_type": "code",
   "execution_count": 67,
   "id": "287a36a0",
   "metadata": {},
   "outputs": [
    {
     "data": {
      "text/html": [
       "<div>\n",
       "<style scoped>\n",
       "    .dataframe tbody tr th:only-of-type {\n",
       "        vertical-align: middle;\n",
       "    }\n",
       "\n",
       "    .dataframe tbody tr th {\n",
       "        vertical-align: top;\n",
       "    }\n",
       "\n",
       "    .dataframe thead th {\n",
       "        text-align: right;\n",
       "    }\n",
       "</style>\n",
       "<table border=\"1\" class=\"dataframe\">\n",
       "  <thead>\n",
       "    <tr style=\"text-align: right;\">\n",
       "      <th></th>\n",
       "      <th>MCQ</th>\n",
       "      <th>Choices</th>\n",
       "      <th>Correct</th>\n",
       "    </tr>\n",
       "  </thead>\n",
       "  <tbody>\n",
       "    <tr>\n",
       "      <th>0</th>\n",
       "      <td>When was the term 'machine learning' coined?</td>\n",
       "      <td>a: 1949 | b: 1959 | c: 1969 | d: 1979</td>\n",
       "      <td>b</td>\n",
       "    </tr>\n",
       "    <tr>\n",
       "      <th>1</th>\n",
       "      <td>Who introduced the theoretical neural structur...</td>\n",
       "      <td>a: Tom M. Mitchell | b: Walter Pitts | c: Dona...</td>\n",
       "      <td>c</td>\n",
       "    </tr>\n",
       "    <tr>\n",
       "      <th>2</th>\n",
       "      <td>What was the purpose of the experimental 'lear...</td>\n",
       "      <td>a: To analyse weather patterns | b: To analyse...</td>\n",
       "      <td>b</td>\n",
       "    </tr>\n",
       "    <tr>\n",
       "      <th>3</th>\n",
       "      <td>According to Tom M. Mitchell, what does a comp...</td>\n",
       "      <td>a: It learns from experience E with respect to...</td>\n",
       "      <td>a</td>\n",
       "    </tr>\n",
       "    <tr>\n",
       "      <th>4</th>\n",
       "      <td>What are the two objectives of modern-day mach...</td>\n",
       "      <td>a: To classify data based on models developed ...</td>\n",
       "      <td>b</td>\n",
       "    </tr>\n",
       "  </tbody>\n",
       "</table>\n",
       "</div>"
      ],
      "text/plain": [
       "                                                 MCQ  \\\n",
       "0       When was the term 'machine learning' coined?   \n",
       "1  Who introduced the theoretical neural structur...   \n",
       "2  What was the purpose of the experimental 'lear...   \n",
       "3  According to Tom M. Mitchell, what does a comp...   \n",
       "4  What are the two objectives of modern-day mach...   \n",
       "\n",
       "                                             Choices Correct  \n",
       "0              a: 1949 | b: 1959 | c: 1969 | d: 1979       b  \n",
       "1  a: Tom M. Mitchell | b: Walter Pitts | c: Dona...       c  \n",
       "2  a: To analyse weather patterns | b: To analyse...       b  \n",
       "3  a: It learns from experience E with respect to...       a  \n",
       "4  a: To classify data based on models developed ...       b  "
      ]
     },
     "execution_count": 67,
     "metadata": {},
     "output_type": "execute_result"
    }
   ],
   "source": [
    "pd.DataFrame (quiz_table_data)"
   ]
  },
  {
   "cell_type": "code",
   "execution_count": 68,
   "id": "ce409707",
   "metadata": {},
   "outputs": [],
   "source": [
    "quiz=pd.DataFrame (quiz_table_data)"
   ]
  },
  {
   "cell_type": "code",
   "execution_count": 70,
   "id": "25035acd",
   "metadata": {},
   "outputs": [],
   "source": [
    "quiz.to_csv(\"machinelearning.csv\",index=False)\n"
   ]
  },
  {
   "cell_type": "code",
   "execution_count": 3,
   "id": "31ca8558",
   "metadata": {},
   "outputs": [
    {
     "data": {
      "text/plain": [
       "'07_22_2025_14_58_57'"
      ]
     },
     "execution_count": 3,
     "metadata": {},
     "output_type": "execute_result"
    }
   ],
   "source": [
    "from datetime import datetime\n",
    "datetime.now().strftime('%m_%d_%Y_%H_%M_%S')"
   ]
  },
  {
   "cell_type": "code",
   "execution_count": null,
   "id": "28a674b8",
   "metadata": {},
   "outputs": [],
   "source": []
  }
 ],
 "metadata": {
  "kernelspec": {
   "display_name": "env",
   "language": "python",
   "name": "python3"
  },
  "language_info": {
   "codemirror_mode": {
    "name": "ipython",
    "version": 3
   },
   "file_extension": ".py",
   "mimetype": "text/x-python",
   "name": "python",
   "nbconvert_exporter": "python",
   "pygments_lexer": "ipython3",
   "version": "3.9.23"
  }
 },
 "nbformat": 4,
 "nbformat_minor": 5
}
